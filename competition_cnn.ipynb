{
 "cells": [
  {
   "cell_type": "code",
   "execution_count": 6,
   "metadata": {},
   "outputs": [],
   "source": [
    "import pandas as pd\n",
    "import numpy as np\n",
    "from sklearn.model_selection import train_test_split\n",
    "from sklearn.preprocessing import StandardScaler\n",
    "import tensorflow as tf\n",
    "from tensorflow.keras.models import Sequential\n",
    "from tensorflow.keras.layers import Conv1D, MaxPooling1D, Flatten, Dense, Dropout"
   ]
  },
  {
   "cell_type": "code",
   "execution_count": 7,
   "metadata": {},
   "outputs": [
    {
     "data": {
      "text/html": [
       "<div>\n",
       "<style scoped>\n",
       "    .dataframe tbody tr th:only-of-type {\n",
       "        vertical-align: middle;\n",
       "    }\n",
       "\n",
       "    .dataframe tbody tr th {\n",
       "        vertical-align: top;\n",
       "    }\n",
       "\n",
       "    .dataframe thead th {\n",
       "        text-align: right;\n",
       "    }\n",
       "</style>\n",
       "<table border=\"1\" class=\"dataframe\">\n",
       "  <thead>\n",
       "    <tr style=\"text-align: right;\">\n",
       "      <th></th>\n",
       "      <th>rowID</th>\n",
       "      <th>season</th>\n",
       "      <th>periodID</th>\n",
       "      <th>day_in_period</th>\n",
       "      <th>hour</th>\n",
       "      <th>minute</th>\n",
       "      <th>holyday</th>\n",
       "      <th>weekday</th>\n",
       "      <th>ke</th>\n",
       "      <th>hupx</th>\n",
       "      <th>afrr_fel</th>\n",
       "      <th>afrr_le</th>\n",
       "      <th>mfrr_fel</th>\n",
       "      <th>mfrr_le</th>\n",
       "      <th>afrr</th>\n",
       "      <th>solar_becsult_dayahead</th>\n",
       "      <th>rendszerterheles_terv</th>\n",
       "      <th>target_flag</th>\n",
       "      <th>target_reg</th>\n",
       "    </tr>\n",
       "  </thead>\n",
       "  <tbody>\n",
       "    <tr>\n",
       "      <th>0</th>\n",
       "      <td>0</td>\n",
       "      <td>1</td>\n",
       "      <td>18</td>\n",
       "      <td>0</td>\n",
       "      <td>0</td>\n",
       "      <td>0</td>\n",
       "      <td>False</td>\n",
       "      <td>2</td>\n",
       "      <td>899.343121</td>\n",
       "      <td>287.7194</td>\n",
       "      <td>0.0000</td>\n",
       "      <td>-103.196933</td>\n",
       "      <td>0.0</td>\n",
       "      <td>0.0</td>\n",
       "      <td>-212.845947</td>\n",
       "      <td>0.0</td>\n",
       "      <td>6514.140945</td>\n",
       "      <td>0.0</td>\n",
       "      <td>-100.188708</td>\n",
       "    </tr>\n",
       "    <tr>\n",
       "      <th>1</th>\n",
       "      <td>1</td>\n",
       "      <td>1</td>\n",
       "      <td>18</td>\n",
       "      <td>0</td>\n",
       "      <td>0</td>\n",
       "      <td>15</td>\n",
       "      <td>False</td>\n",
       "      <td>2</td>\n",
       "      <td>899.374587</td>\n",
       "      <td>287.7194</td>\n",
       "      <td>55.9286</td>\n",
       "      <td>-5.617200</td>\n",
       "      <td>0.0</td>\n",
       "      <td>0.0</td>\n",
       "      <td>263.427160</td>\n",
       "      <td>0.0</td>\n",
       "      <td>6482.184545</td>\n",
       "      <td>0.0</td>\n",
       "      <td>-100.292441</td>\n",
       "    </tr>\n",
       "    <tr>\n",
       "      <th>2</th>\n",
       "      <td>2</td>\n",
       "      <td>1</td>\n",
       "      <td>18</td>\n",
       "      <td>0</td>\n",
       "      <td>0</td>\n",
       "      <td>30</td>\n",
       "      <td>False</td>\n",
       "      <td>2</td>\n",
       "      <td>899.303875</td>\n",
       "      <td>287.7194</td>\n",
       "      <td>69.6826</td>\n",
       "      <td>-9.355800</td>\n",
       "      <td>0.0</td>\n",
       "      <td>0.0</td>\n",
       "      <td>273.927320</td>\n",
       "      <td>0.0</td>\n",
       "      <td>6310.363525</td>\n",
       "      <td>0.0</td>\n",
       "      <td>-100.059327</td>\n",
       "    </tr>\n",
       "    <tr>\n",
       "      <th>3</th>\n",
       "      <td>3</td>\n",
       "      <td>1</td>\n",
       "      <td>18</td>\n",
       "      <td>0</td>\n",
       "      <td>0</td>\n",
       "      <td>45</td>\n",
       "      <td>False</td>\n",
       "      <td>2</td>\n",
       "      <td>899.299787</td>\n",
       "      <td>287.7194</td>\n",
       "      <td>30.2718</td>\n",
       "      <td>-16.943567</td>\n",
       "      <td>0.0</td>\n",
       "      <td>0.0</td>\n",
       "      <td>132.621040</td>\n",
       "      <td>0.0</td>\n",
       "      <td>6158.798885</td>\n",
       "      <td>0.0</td>\n",
       "      <td>-100.045850</td>\n",
       "    </tr>\n",
       "    <tr>\n",
       "      <th>4</th>\n",
       "      <td>4</td>\n",
       "      <td>1</td>\n",
       "      <td>18</td>\n",
       "      <td>0</td>\n",
       "      <td>1</td>\n",
       "      <td>0</td>\n",
       "      <td>False</td>\n",
       "      <td>2</td>\n",
       "      <td>897.436947</td>\n",
       "      <td>283.6309</td>\n",
       "      <td>25.9714</td>\n",
       "      <td>-12.064167</td>\n",
       "      <td>0.0</td>\n",
       "      <td>0.0</td>\n",
       "      <td>151.888080</td>\n",
       "      <td>0.0</td>\n",
       "      <td>6137.148085</td>\n",
       "      <td>0.0</td>\n",
       "      <td>-104.954619</td>\n",
       "    </tr>\n",
       "  </tbody>\n",
       "</table>\n",
       "</div>"
      ],
      "text/plain": [
       "   rowID  season  periodID  day_in_period  hour  minute  holyday  weekday  \\\n",
       "0      0       1        18              0     0       0    False        2   \n",
       "1      1       1        18              0     0      15    False        2   \n",
       "2      2       1        18              0     0      30    False        2   \n",
       "3      3       1        18              0     0      45    False        2   \n",
       "4      4       1        18              0     1       0    False        2   \n",
       "\n",
       "           ke      hupx  afrr_fel     afrr_le  mfrr_fel  mfrr_le        afrr  \\\n",
       "0  899.343121  287.7194    0.0000 -103.196933       0.0      0.0 -212.845947   \n",
       "1  899.374587  287.7194   55.9286   -5.617200       0.0      0.0  263.427160   \n",
       "2  899.303875  287.7194   69.6826   -9.355800       0.0      0.0  273.927320   \n",
       "3  899.299787  287.7194   30.2718  -16.943567       0.0      0.0  132.621040   \n",
       "4  897.436947  283.6309   25.9714  -12.064167       0.0      0.0  151.888080   \n",
       "\n",
       "   solar_becsult_dayahead  rendszerterheles_terv  target_flag  target_reg  \n",
       "0                     0.0            6514.140945          0.0 -100.188708  \n",
       "1                     0.0            6482.184545          0.0 -100.292441  \n",
       "2                     0.0            6310.363525          0.0 -100.059327  \n",
       "3                     0.0            6158.798885          0.0 -100.045850  \n",
       "4                     0.0            6137.148085          0.0 -104.954619  "
      ]
     },
     "execution_count": 7,
     "metadata": {},
     "output_type": "execute_result"
    }
   ],
   "source": [
    "pub = pd.read_csv('data/public_data.csv')\n",
    "df = pub.copy()\n",
    "df.head()"
   ]
  },
  {
   "cell_type": "code",
   "execution_count": 8,
   "metadata": {},
   "outputs": [],
   "source": [
    "pub = pd.read_csv('data/public_data.csv')\n",
    "\n",
    "def f(x):\n",
    "    if x == 4:\n",
    "        return \"submit\"\n",
    "    elif x == 3:\n",
    "        return \"test\"\n",
    "    else:\n",
    "        return \"train\"\n",
    "    \n",
    "df['train_test_validation']=df['day_in_period'].apply(f)"
   ]
  },
  {
   "cell_type": "code",
   "execution_count": 9,
   "metadata": {},
   "outputs": [
    {
     "data": {
      "text/plain": [
       "187"
      ]
     },
     "execution_count": 9,
     "metadata": {},
     "output_type": "execute_result"
    }
   ],
   "source": [
    "df['periodID'].nunique()"
   ]
  },
  {
   "cell_type": "code",
   "execution_count": 10,
   "metadata": {},
   "outputs": [],
   "source": [
    "input_variables = ['hour', 'minute', 'holyday', 'weekday', 'ke','hupx',\t'afrr_fel',\t'afrr_le',\t'mfrr_fel',\t'mfrr_le',\t'afrr',\t'solar_becsult_dayahead','rendszerterheles_terv']"
   ]
  },
  {
   "cell_type": "code",
   "execution_count": 11,
   "metadata": {},
   "outputs": [],
   "source": [
    "train_df = df[df['train_test_validation'] == 'train']\n",
    "test_df = df[df['train_test_validation'] == 'test']\n",
    "submit_df = df[df['train_test_validation'] == 'submit']"
   ]
  },
  {
   "cell_type": "code",
   "execution_count": 12,
   "metadata": {},
   "outputs": [
    {
     "data": {
      "text/plain": [
       "rowID                     53856\n",
       "season                    53856\n",
       "periodID                  53856\n",
       "day_in_period             53856\n",
       "hour                      53856\n",
       "minute                    53856\n",
       "holyday                   53856\n",
       "weekday                   53856\n",
       "ke                        53856\n",
       "hupx                      53856\n",
       "afrr_fel                  53856\n",
       "afrr_le                   53856\n",
       "mfrr_fel                  53856\n",
       "mfrr_le                   53856\n",
       "afrr                      53856\n",
       "solar_becsult_dayahead    53856\n",
       "rendszerterheles_terv     53856\n",
       "target_flag               53856\n",
       "target_reg                53856\n",
       "train_test_validation     53856\n",
       "dtype: int64"
      ]
     },
     "execution_count": 12,
     "metadata": {},
     "output_type": "execute_result"
    }
   ],
   "source": [
    "train_df.head()\n",
    "train_df.count()"
   ]
  },
  {
   "cell_type": "code",
   "execution_count": 13,
   "metadata": {},
   "outputs": [
    {
     "data": {
      "text/plain": [
       "rowID                     17952\n",
       "season                    17952\n",
       "periodID                  17952\n",
       "day_in_period             17952\n",
       "hour                      17952\n",
       "minute                    17952\n",
       "holyday                   17952\n",
       "weekday                   17952\n",
       "ke                        17952\n",
       "hupx                      17952\n",
       "afrr_fel                  17952\n",
       "afrr_le                   17952\n",
       "mfrr_fel                  17952\n",
       "mfrr_le                   17952\n",
       "afrr                      17952\n",
       "solar_becsult_dayahead    17952\n",
       "rendszerterheles_terv     17952\n",
       "target_flag               17952\n",
       "target_reg                17952\n",
       "train_test_validation     17952\n",
       "dtype: int64"
      ]
     },
     "execution_count": 13,
     "metadata": {},
     "output_type": "execute_result"
    }
   ],
   "source": [
    "test_df.head()\n",
    "test_df.count()"
   ]
  },
  {
   "cell_type": "code",
   "execution_count": 14,
   "metadata": {},
   "outputs": [
    {
     "data": {
      "text/plain": [
       "rowID                     17952\n",
       "season                    17952\n",
       "periodID                  17952\n",
       "day_in_period             17952\n",
       "hour                      17952\n",
       "minute                    17952\n",
       "holyday                   17952\n",
       "weekday                   17952\n",
       "ke                            0\n",
       "hupx                          0\n",
       "afrr_fel                      0\n",
       "afrr_le                       0\n",
       "mfrr_fel                      0\n",
       "mfrr_le                       0\n",
       "afrr                          0\n",
       "solar_becsult_dayahead    17952\n",
       "rendszerterheles_terv     17952\n",
       "target_flag                   0\n",
       "target_reg                    0\n",
       "train_test_validation     17952\n",
       "dtype: int64"
      ]
     },
     "execution_count": 14,
     "metadata": {},
     "output_type": "execute_result"
    }
   ],
   "source": [
    "submit_df.head()\n",
    "submit_df.count()"
   ]
  },
  {
   "cell_type": "code",
   "execution_count": 15,
   "metadata": {},
   "outputs": [],
   "source": [
    "X_train = train_df[input_variables].values\n",
    "y_train = train_df['target_flag'].values\n",
    "X_test = test_df[input_variables].values\n",
    "y_test = test_df['target_flag'].values\n",
    "X_submit = submit_df[input_variables].values"
   ]
  },
  {
   "cell_type": "code",
   "execution_count": 17,
   "metadata": {},
   "outputs": [
    {
     "data": {
      "text/plain": [
       "((53856, 13), (53856,), (17952, 13), (17952,), (17952, 13))"
      ]
     },
     "execution_count": 17,
     "metadata": {},
     "output_type": "execute_result"
    }
   ],
   "source": [
    "X_train.shape, y_train.shape, X_test.shape, y_test.shape, X_submit.shape"
   ]
  },
  {
   "cell_type": "code",
   "execution_count": 18,
   "metadata": {},
   "outputs": [],
   "source": [
    "scaler = StandardScaler()\n",
    "X_train = scaler.fit_transform(X_train)\n",
    "X_test = scaler.transform(X_test)\n",
    "X_submit = scaler.transform(X_submit)"
   ]
  },
  {
   "cell_type": "code",
   "execution_count": 20,
   "metadata": {},
   "outputs": [
    {
     "data": {
      "text/plain": [
       "(53856, 13)"
      ]
     },
     "execution_count": 20,
     "metadata": {},
     "output_type": "execute_result"
    }
   ],
   "source": []
  }
 ],
 "metadata": {
  "kernelspec": {
   "display_name": ".venv",
   "language": "python",
   "name": "python3"
  },
  "language_info": {
   "codemirror_mode": {
    "name": "ipython",
    "version": 3
   },
   "file_extension": ".py",
   "mimetype": "text/x-python",
   "name": "python",
   "nbconvert_exporter": "python",
   "pygments_lexer": "ipython3",
   "version": "3.11.3"
  }
 },
 "nbformat": 4,
 "nbformat_minor": 2
}
